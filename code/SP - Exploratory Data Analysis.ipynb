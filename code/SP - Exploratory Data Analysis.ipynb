{
 "cells": [
  {
   "cell_type": "code",
   "execution_count": 1,
   "id": "ace5cbaf-a8e2-4ed6-a048-c523701509fe",
   "metadata": {},
   "outputs": [],
   "source": [
    "import pandas as pd\n",
    "from sklearn.ensemble import RandomForestClassifier\n",
    "import itertools\n",
    "from sklearn.feature_extraction.text import CountVectorizer,TfidfVectorizer\n",
    "import mmap\n",
    "from collections import defaultdict\n",
    "import json\n",
    "import re\n",
    "from sklearn.preprocessing import OneHotEncoder\n",
    "import matplotlib.pyplot as plt"
   ]
  },
  {
   "cell_type": "code",
   "execution_count": 2,
   "id": "1f224662-9b95-4568-be70-361b6fe680e9",
   "metadata": {},
   "outputs": [],
   "source": [
    "def plot_and_calculate_percentages(histograms):\n",
    "  # Loop through each histogram in the list\n",
    "  for i, histogram in enumerate(histograms):\n",
    "    total_counts = sum(histogram)\n",
    "    percentages = [count / total_counts * 100 for count in histogram]\n",
    "    average_percentage = sum(percentages) / len(percentages)\n",
    "\n",
    "    # Create a bar chart for each histogram\n",
    "    plt.figure(figsize=(10, 6))  # Adjust figure size for multiple plots\n",
    "    plt.bar(range(len(percentages)), percentages)\n",
    "    plt.xlabel(\"Value\")\n",
    "    plt.ylabel(\"Percentage (%)\")\n",
    "    plt.title(\"Histogram {} Percentages (Average = {:.2f}%)\".format(i+1, average_percentage))\n",
    "    plt.grid(True)\n",
    "    plt.show()\n",
    "\n"
   ]
  },
  {
   "cell_type": "code",
   "execution_count": 3,
   "id": "bce96639-5a49-4b57-a7b3-7f2fc4366290",
   "metadata": {},
   "outputs": [],
   "source": [
    "def flatten_and_expand(df, col):\n",
    "    # Iterate over each row in the specified column\n",
    "    for index, row in enumerate(df[col]): \n",
    "        \n",
    "        # Flatten basic key-value pairs\n",
    "        for key, value in row.items():\n",
    "            if key != 'printabledist':\n",
    "                df.loc[index, f'{col}_{key}_0'] = value \n",
    "\n",
    "        # Expand 'printabledist' into separate columns\n",
    "        for i, dist_value in enumerate(row['printabledist']):\n",
    "            df.loc[index, f'{col}_printabledist_{i}_0'] = dist_value\n",
    "\n",
    "    return df"
   ]
  },
  {
   "cell_type": "code",
   "execution_count": null,
   "id": "48e9353c-9a26-49c4-b5b7-f6cb28201fd3",
   "metadata": {},
   "outputs": [],
   "source": [
    "df = pd.read_json(\"train_features_5.jsonl\",lines = True)"
   ]
  },
  {
   "cell_type": "code",
   "execution_count": null,
   "id": "b380f75b-341e-4c8e-a559-61f9278704ed",
   "metadata": {
    "scrolled": true
   },
   "outputs": [],
   "source": [
    "df"
   ]
  },
  {
   "cell_type": "code",
   "execution_count": null,
   "id": "22f8cc82-9b17-46bf-b2ff-552457436711",
   "metadata": {},
   "outputs": [],
   "source": [
    "df.columns.tolist()"
   ]
  },
  {
   "cell_type": "code",
   "execution_count": null,
   "id": "e0c56aa0-7be4-47b2-8f37-d0f415477e00",
   "metadata": {},
   "outputs": [],
   "source": [
    "df[:,'sha256':'md5']"
   ]
  },
  {
   "cell_type": "code",
   "execution_count": null,
   "id": "d9cea4f0-5b40-4b5d-9f0d-f0b0e96d6b0f",
   "metadata": {},
   "outputs": [],
   "source": [
    "df.columns"
   ]
  },
  {
   "cell_type": "code",
   "execution_count": null,
   "id": "38f10e88-618a-4510-ae1e-2bfc92fab0d4",
   "metadata": {},
   "outputs": [],
   "source": [
    "new_data = {f'byte_{i}': [row[i] for row in df['histogram'].to_list()] for i in range(256)}\n",
    "new_df = pd.DataFrame(new_data)\n",
    "df = pd.concat([df, new_df], axis=1)"
   ]
  },
  {
   "cell_type": "code",
   "execution_count": null,
   "id": "6b159ff5-7afb-4534-bb36-c17bc6d0d66d",
   "metadata": {},
   "outputs": [],
   "source": [
    "new_data = {f'byte_entropy_{i}': [row[i] for row in df['byteentropy'].to_list()] for i in range(256)}\n",
    "new_df = pd.DataFrame(new_data)\n",
    "df = pd.concat([df, new_df], axis=1)"
   ]
  },
  {
   "cell_type": "code",
   "execution_count": null,
   "id": "9710f525-c05b-4ade-8160-3f6fbb4f68a1",
   "metadata": {},
   "outputs": [],
   "source": [
    "# Step 1\n",
    "df['total_counts'] = df.loc[:, 'byte_0': 'byte_255'].sum(axis=1)\n",
    "\n",
    "# Step 2\n",
    "for col in df.loc[:, 'byte_0': 'byte_255']:\n",
    "    df[col] = df[col] / df['total_counts']"
   ]
  },
  {
   "cell_type": "code",
   "execution_count": null,
   "id": "85e5d9de-275a-4bff-b043-33c8e338f580",
   "metadata": {},
   "outputs": [],
   "source": [
    "# Step 1\n",
    "df['total_counts'] = df.loc[:, 'byte_entropy_0': 'byte_entropy_255'].sum(axis=1)\n",
    "\n",
    "# Step 2\n",
    "for col in df.loc[:, 'byte_entropy_0': 'byte_entropy_255']:\n",
    "    df[col] = df[col] / df['total_counts']"
   ]
  },
  {
   "cell_type": "code",
   "execution_count": null,
   "id": "b3f33e85-ceac-46d9-876d-f6238b6f5db7",
   "metadata": {},
   "outputs": [],
   "source": [
    "df"
   ]
  },
  {
   "cell_type": "code",
   "execution_count": null,
   "id": "a1a076d6-b90a-4593-94d2-332d50a81e47",
   "metadata": {},
   "outputs": [],
   "source": [
    "df.shape[0]"
   ]
  },
  {
   "cell_type": "code",
   "execution_count": null,
   "id": "cf984a65-db0d-4d67-9103-2f02d3ab8aab",
   "metadata": {},
   "outputs": [],
   "source": [
    "df = flatten_and_expand(df, 'strings')"
   ]
  },
  {
   "cell_type": "code",
   "execution_count": null,
   "id": "7d79b55a-c960-4183-922e-f2058dce410e",
   "metadata": {},
   "outputs": [],
   "source": [
    "type(df['strings'][0]['printabledist'])"
   ]
  },
  {
   "cell_type": "code",
   "execution_count": null,
   "id": "2b0e0c0c-013d-41a7-8833-ed8e32d88acb",
   "metadata": {},
   "outputs": [],
   "source": [
    "df['sha256'][0]"
   ]
  },
  {
   "cell_type": "code",
   "execution_count": null,
   "id": "3a47123e-40fa-4d7c-be20-9d568fabad0e",
   "metadata": {},
   "outputs": [],
   "source": [
    "df['strings'][0]"
   ]
  },
  {
   "cell_type": "code",
   "execution_count": null,
   "id": "ad771bac-5995-473d-8db7-1a2e37a7fc83",
   "metadata": {},
   "outputs": [],
   "source": [
    "df"
   ]
  },
  {
   "cell_type": "code",
   "execution_count": null,
   "id": "85306123-22ac-49c3-81b3-50819557e5fb",
   "metadata": {},
   "outputs": [],
   "source": [
    "df['imports'][0]"
   ]
  },
  {
   "cell_type": "code",
   "execution_count": null,
   "id": "2ac40684-53d6-4d39-a5d9-4b5a1a0d22da",
   "metadata": {},
   "outputs": [],
   "source": [
    "df['section'][2]"
   ]
  },
  {
   "cell_type": "code",
   "execution_count": null,
   "id": "252185fb-b85a-470d-9d86-2bb4993c760a",
   "metadata": {
    "scrolled": true
   },
   "outputs": [],
   "source": [
    "df['label'].value_counts()"
   ]
  },
  {
   "cell_type": "code",
   "execution_count": null,
   "id": "04bad67b-98d8-4671-b980-cda91f1760bc",
   "metadata": {},
   "outputs": [],
   "source": [
    "suspicious_df = df[df['label'] == 1]"
   ]
  },
  {
   "cell_type": "code",
   "execution_count": null,
   "id": "c110e4bb-d8e4-4a13-ab75-58875b8f7ad0",
   "metadata": {},
   "outputs": [],
   "source": [
    "# Extract the list of histograms from the DataFrame\n",
    "\n",
    "histograms = suspicious_df['histogram'].tolist()\n",
    "\n",
    "print(histograms)\n",
    "# Plot and calculate percentages for each histogram\n",
    "#plot_and_calculate_percentages(histograms)"
   ]
  },
  {
   "cell_type": "code",
   "execution_count": null,
   "id": "e1eaf49f-4e02-4d22-96d2-91628437e766",
   "metadata": {},
   "outputs": [],
   "source": [
    "benign_df = df[df['label'] == 0]"
   ]
  },
  {
   "cell_type": "code",
   "execution_count": null,
   "id": "ef957e9d-6fc5-479f-8a63-5357ee524c31",
   "metadata": {},
   "outputs": [],
   "source": [
    "histograms = benign_df['histogram'].tolist()\n",
    "\n",
    "# Plot and calculate percentages for each histogram\n",
    "plot_and_calculate_percentages(histograms)"
   ]
  },
  {
   "cell_type": "code",
   "execution_count": null,
   "id": "60ab6ceb-49ed-4255-bd34-a0a4b3a3df23",
   "metadata": {},
   "outputs": [],
   "source": [
    "df['avclass'].value_counts()"
   ]
  },
  {
   "cell_type": "code",
   "execution_count": null,
   "id": "db9f0268-3258-4f78-a9ee-b79f29b861c2",
   "metadata": {},
   "outputs": [],
   "source": []
  }
 ],
 "metadata": {
  "kernelspec": {
   "display_name": "Python 3 (ipykernel)",
   "language": "python",
   "name": "python3"
  },
  "language_info": {
   "codemirror_mode": {
    "name": "ipython",
    "version": 3
   },
   "file_extension": ".py",
   "mimetype": "text/x-python",
   "name": "python",
   "nbconvert_exporter": "python",
   "pygments_lexer": "ipython3",
   "version": "3.11.5"
  }
 },
 "nbformat": 4,
 "nbformat_minor": 5
}
